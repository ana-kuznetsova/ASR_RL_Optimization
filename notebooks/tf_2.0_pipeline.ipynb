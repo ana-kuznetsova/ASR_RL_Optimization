{
 "cells": [
  {
   "cell_type": "markdown",
   "metadata": {},
   "source": [
    "## Chars per Sec"
   ]
  },
  {
   "cell_type": "code",
   "execution_count": 15,
   "metadata": {},
   "outputs": [],
   "source": [
    "import librosa\n",
    "from tqdm import tqdm\n",
    "import os\n",
    "import pandas as pd"
   ]
  },
  {
   "cell_type": "code",
   "execution_count": 25,
   "metadata": {},
   "outputs": [],
   "source": [
    "tt_audio_path = '/home/anakuz/data/docs/iu_research/curriculum_learning/tatar/clips/'\n",
    "tt_csv_path = '/home/anakuz/data/docs/iu_research/curriculum_learning/tatar/'"
   ]
  },
  {
   "cell_type": "code",
   "execution_count": 26,
   "metadata": {},
   "outputs": [],
   "source": [
    "tt_train = pd.read_csv(tt_csv_path+\"train.csv\")\n",
    "tt_trans = tt_train['transcript'].values"
   ]
  },
  {
   "cell_type": "code",
   "execution_count": 30,
   "metadata": {},
   "outputs": [
    {
     "data": {
      "text/plain": [
       "Index(['wav_filename', 'wav_filesize', 'transcript'], dtype='object')"
      ]
     },
     "execution_count": 30,
     "metadata": {},
     "output_type": "execute_result"
    }
   ],
   "source": [
    "tt_train.columns"
   ]
  },
  {
   "cell_type": "code",
   "execution_count": null,
   "metadata": {},
   "outputs": [],
   "source": [
    "sr=44000\n",
    "chars_pers = []\n",
    "for r in tt_train.iterrows():\n",
    "    file = r[1]['wav_filename']\n",
    "    audio, fs = librosa.load(tt_audio_path+file, sr=sr)\n",
    "    print('aud:', len(audio))\n",
    "    secs = len(audio)/sr\n",
    "    print('sec:', secs)\n",
    "    trans = r[1]['transcript']\n",
    "    print('trans:', len(trans))\n",
    "    charsps = len(trans)/secs\n",
    "    chars_pers.append(charsps)\n",
    "    del(audio)"
   ]
  },
  {
   "cell_type": "code",
   "execution_count": 56,
   "metadata": {},
   "outputs": [],
   "source": [
    "tt_train['char_sec'] = chars_pers"
   ]
  },
  {
   "cell_type": "code",
   "execution_count": 58,
   "metadata": {},
   "outputs": [],
   "source": [
    "tt_train.to_csv('tt_train.tsv', sep='\\t')"
   ]
  },
  {
   "cell_type": "code",
   "execution_count": null,
   "metadata": {},
   "outputs": [],
   "source": []
  },
  {
   "cell_type": "code",
   "execution_count": null,
   "metadata": {},
   "outputs": [],
   "source": []
  }
 ],
 "metadata": {
  "kernelspec": {
   "display_name": "Python 3",
   "language": "python",
   "name": "python3"
  },
  "language_info": {
   "codemirror_mode": {
    "name": "ipython",
    "version": 3
   },
   "file_extension": ".py",
   "mimetype": "text/x-python",
   "name": "python",
   "nbconvert_exporter": "python",
   "pygments_lexer": "ipython3",
   "version": "3.7.2"
  }
 },
 "nbformat": 4,
 "nbformat_minor": 2
}
